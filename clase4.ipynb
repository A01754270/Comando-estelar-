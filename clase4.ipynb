{
 "cells": [
  {
   "cell_type": "markdown",
   "id": "31e80c6e",
   "metadata": {},
   "source": [
    "# Actividad Cloud Computing "
   ]
  },
  {
   "cell_type": "markdown",
   "id": "43c26523",
   "metadata": {},
   "source": [
    "## 1. Mostrar base de datos en SQL\n",
    "Abran un servidor en Azure con la base de datos de prueba de SQL. "
   ]
  },
  {
   "cell_type": "markdown",
   "id": "f8b7889d",
   "metadata": {},
   "source": [
    "Usamos ODBC para jalar los datos a Python"
   ]
  },
  {
   "cell_type": "markdown",
   "id": "77c69b74",
   "metadata": {},
   "source": [
    "Asegurando su instalación:"
   ]
  },
  {
   "cell_type": "code",
   "execution_count": 110,
   "id": "acc540e7",
   "metadata": {},
   "outputs": [
    {
     "data": {
      "text/plain": [
       "0"
      ]
     },
     "execution_count": 110,
     "metadata": {},
     "output_type": "execute_result"
    }
   ],
   "source": [
    "import sys\n",
    "import subprocess\n",
    "\n",
    "# Install pyodbc\n",
    "subprocess.check_call([sys.executable, \"-m\", \"pip\", \"install\", \"sqlalchemy\"])"
   ]
  },
  {
   "cell_type": "code",
   "execution_count": 111,
   "id": "780e3b79",
   "metadata": {},
   "outputs": [
    {
     "name": "stdout",
     "output_type": "stream",
     "text": [
      "Connected to the Azure SQL Database successfully!\n"
     ]
    }
   ],
   "source": [
    "import pyodbc # type: ignore\n",
    "import json\n",
    "\n",
    "# Load the connection details from the JSON file\n",
    "with open(\"connection_details.json\", \"r\") as json_file:\n",
    "    connection_details = json.load(json_file)\n",
    "\n",
    "# Extract the connection details\n",
    "server = connection_details[\"server\"]\n",
    "database = connection_details[\"database\"]\n",
    "username = connection_details[\"username\"]\n",
    "password = connection_details[\"password\"]\n",
    "\n",
    "# Define the connection string for SQL Server (Azure)\n",
    "conn_str = (\n",
    "    f'DRIVER={{ODBC Driver 17 for SQL Server}};'\n",
    "    f'SERVER={server};'\n",
    "    f'DATABASE={database};'\n",
    "    f'UID={username};'\n",
    "    f'PWD={password}'\n",
    ")\n",
    "\n",
    "# Establish the connection\n",
    "try:\n",
    "    conn = pyodbc.connect(conn_str)\n",
    "    print(\"Connected to the Azure SQL Database successfully!\")\n",
    "\n",
    "except pyodbc.Error as e:\n",
    "    print(f\"Error connecting to the database: {e}\")\n"
   ]
  },
  {
   "cell_type": "markdown",
   "id": "6b0de5dc",
   "metadata": {},
   "source": [
    "Se logra establecer conexión con la base de datos de prueba de SQL. "
   ]
  },
  {
   "cell_type": "markdown",
   "id": "d2ea49aa",
   "metadata": {},
   "source": [
    "## 2. Entrenar modelo usando dicha base de datos\n",
    "\n",
    "El modelo, una regresión, deberá predecir fecha de modificación de la tabla SalesLT.costumer "
   ]
  },
  {
   "cell_type": "markdown",
   "id": "5eefc79d",
   "metadata": {},
   "source": [
    "Se tienen los datos de SQL en `datos` en python"
   ]
  },
  {
   "cell_type": "code",
   "execution_count": 112,
   "id": "18136086",
   "metadata": {},
   "outputs": [
    {
     "name": "stderr",
     "output_type": "stream",
     "text": [
      "C:\\Users\\David\\AppData\\Local\\Temp\\ipykernel_32524\\1185087627.py:3: UserWarning: pandas only supports SQLAlchemy connectable (engine/connection) or database string URI or sqlite3 DBAPI2 connection. Other DBAPI2 objects are not tested. Please consider using SQLAlchemy.\n",
      "  datos = pd.read_sql(query, conn)\n"
     ]
    },
    {
     "data": {
      "application/vnd.microsoft.datawrangler.viewer.v0+json": {
       "columns": [
        {
         "name": "index",
         "rawType": "int64",
         "type": "integer"
        },
        {
         "name": "CustomerID",
         "rawType": "int64",
         "type": "integer"
        },
        {
         "name": "NameStyle",
         "rawType": "bool",
         "type": "boolean"
        },
        {
         "name": "Title",
         "rawType": "object",
         "type": "string"
        },
        {
         "name": "FirstName",
         "rawType": "object",
         "type": "string"
        },
        {
         "name": "MiddleName",
         "rawType": "object",
         "type": "unknown"
        },
        {
         "name": "LastName",
         "rawType": "object",
         "type": "string"
        },
        {
         "name": "Suffix",
         "rawType": "object",
         "type": "unknown"
        },
        {
         "name": "CompanyName",
         "rawType": "object",
         "type": "string"
        },
        {
         "name": "SalesPerson",
         "rawType": "object",
         "type": "string"
        },
        {
         "name": "EmailAddress",
         "rawType": "object",
         "type": "string"
        },
        {
         "name": "Phone",
         "rawType": "object",
         "type": "string"
        },
        {
         "name": "PasswordHash",
         "rawType": "object",
         "type": "string"
        },
        {
         "name": "PasswordSalt",
         "rawType": "object",
         "type": "string"
        },
        {
         "name": "rowguid",
         "rawType": "object",
         "type": "string"
        },
        {
         "name": "ModifiedDate",
         "rawType": "datetime64[ns]",
         "type": "datetime"
        }
       ],
       "conversionMethod": "pd.DataFrame",
       "ref": "5390513e-7fb3-4f58-9844-9249cfc8cba8",
       "rows": [
        [
         "0",
         "1",
         "False",
         "Mr.",
         "Orlando",
         "N.",
         "Gee",
         null,
         "A Bike Store",
         "adventure-works\\pamela0",
         "orlando0@adventure-works.com",
         "245-555-0173",
         "L/Rlwxzp4w7RWmEgXX+/A7cXaePEPcp+KwQhl2fJL7w=",
         "1KjXYs4=",
         "3F5AE95E-B87D-4AED-95B4-C3797AFCB74F",
         "2005-08-01 00:00:00"
        ],
        [
         "1",
         "2",
         "False",
         "Mr.",
         "Keith",
         null,
         "Harris",
         null,
         "Progressive Sports",
         "adventure-works\\david8",
         "keith0@adventure-works.com",
         "170-555-0127",
         "YPdtRdvqeAhj6wyxEsFdshBDNXxkCXn+CRgbvJItknw=",
         "fs1ZGhY=",
         "E552F657-A9AF-4A7D-A645-C429D6E02491",
         "2006-08-01 00:00:00"
        ],
        [
         "2",
         "3",
         "False",
         "Ms.",
         "Donna",
         "F.",
         "Carreras",
         null,
         "Advanced Bike Components",
         "adventure-works\\jillian0",
         "donna0@adventure-works.com",
         "279-555-0130",
         "LNoK27abGQo48gGue3EBV/UrlYSToV0/s87dCRV7uJk=",
         "YTNH5Rw=",
         "130774B1-DB21-4EF3-98C8-C104BCD6ED6D",
         "2005-09-01 00:00:00"
        ],
        [
         "3",
         "4",
         "False",
         "Ms.",
         "Janet",
         "M.",
         "Gates",
         null,
         "Modular Cycle Systems",
         "adventure-works\\jillian0",
         "janet1@adventure-works.com",
         "710-555-0173",
         "ElzTpSNbUW1Ut+L5cWlfR7MF6nBZia8WpmGaQPjLOJA=",
         "nm7D5e4=",
         "FF862851-1DAA-4044-BE7C-3E85583C054D",
         "2006-07-01 00:00:00"
        ],
        [
         "4",
         "5",
         "False",
         "Mr.",
         "Lucy",
         null,
         "Harrington",
         null,
         "Metropolitan Sports Supply",
         "adventure-works\\shu0",
         "lucy0@adventure-works.com",
         "828-555-0186",
         "KJqV15wsX3PG8TS5GSddp6LFFVdd3CoRftZM/tP0+R4=",
         "cNFKU4w=",
         "83905BDC-6F5E-4F71-B162-C98DA069F38A",
         "2006-09-01 00:00:00"
        ]
       ],
       "shape": {
        "columns": 15,
        "rows": 5
       }
      },
      "text/html": [
       "<div>\n",
       "<style scoped>\n",
       "    .dataframe tbody tr th:only-of-type {\n",
       "        vertical-align: middle;\n",
       "    }\n",
       "\n",
       "    .dataframe tbody tr th {\n",
       "        vertical-align: top;\n",
       "    }\n",
       "\n",
       "    .dataframe thead th {\n",
       "        text-align: right;\n",
       "    }\n",
       "</style>\n",
       "<table border=\"1\" class=\"dataframe\">\n",
       "  <thead>\n",
       "    <tr style=\"text-align: right;\">\n",
       "      <th></th>\n",
       "      <th>CustomerID</th>\n",
       "      <th>NameStyle</th>\n",
       "      <th>Title</th>\n",
       "      <th>FirstName</th>\n",
       "      <th>MiddleName</th>\n",
       "      <th>LastName</th>\n",
       "      <th>Suffix</th>\n",
       "      <th>CompanyName</th>\n",
       "      <th>SalesPerson</th>\n",
       "      <th>EmailAddress</th>\n",
       "      <th>Phone</th>\n",
       "      <th>PasswordHash</th>\n",
       "      <th>PasswordSalt</th>\n",
       "      <th>rowguid</th>\n",
       "      <th>ModifiedDate</th>\n",
       "    </tr>\n",
       "  </thead>\n",
       "  <tbody>\n",
       "    <tr>\n",
       "      <th>0</th>\n",
       "      <td>1</td>\n",
       "      <td>False</td>\n",
       "      <td>Mr.</td>\n",
       "      <td>Orlando</td>\n",
       "      <td>N.</td>\n",
       "      <td>Gee</td>\n",
       "      <td>None</td>\n",
       "      <td>A Bike Store</td>\n",
       "      <td>adventure-works\\pamela0</td>\n",
       "      <td>orlando0@adventure-works.com</td>\n",
       "      <td>245-555-0173</td>\n",
       "      <td>L/Rlwxzp4w7RWmEgXX+/A7cXaePEPcp+KwQhl2fJL7w=</td>\n",
       "      <td>1KjXYs4=</td>\n",
       "      <td>3F5AE95E-B87D-4AED-95B4-C3797AFCB74F</td>\n",
       "      <td>2005-08-01</td>\n",
       "    </tr>\n",
       "    <tr>\n",
       "      <th>1</th>\n",
       "      <td>2</td>\n",
       "      <td>False</td>\n",
       "      <td>Mr.</td>\n",
       "      <td>Keith</td>\n",
       "      <td>None</td>\n",
       "      <td>Harris</td>\n",
       "      <td>None</td>\n",
       "      <td>Progressive Sports</td>\n",
       "      <td>adventure-works\\david8</td>\n",
       "      <td>keith0@adventure-works.com</td>\n",
       "      <td>170-555-0127</td>\n",
       "      <td>YPdtRdvqeAhj6wyxEsFdshBDNXxkCXn+CRgbvJItknw=</td>\n",
       "      <td>fs1ZGhY=</td>\n",
       "      <td>E552F657-A9AF-4A7D-A645-C429D6E02491</td>\n",
       "      <td>2006-08-01</td>\n",
       "    </tr>\n",
       "    <tr>\n",
       "      <th>2</th>\n",
       "      <td>3</td>\n",
       "      <td>False</td>\n",
       "      <td>Ms.</td>\n",
       "      <td>Donna</td>\n",
       "      <td>F.</td>\n",
       "      <td>Carreras</td>\n",
       "      <td>None</td>\n",
       "      <td>Advanced Bike Components</td>\n",
       "      <td>adventure-works\\jillian0</td>\n",
       "      <td>donna0@adventure-works.com</td>\n",
       "      <td>279-555-0130</td>\n",
       "      <td>LNoK27abGQo48gGue3EBV/UrlYSToV0/s87dCRV7uJk=</td>\n",
       "      <td>YTNH5Rw=</td>\n",
       "      <td>130774B1-DB21-4EF3-98C8-C104BCD6ED6D</td>\n",
       "      <td>2005-09-01</td>\n",
       "    </tr>\n",
       "    <tr>\n",
       "      <th>3</th>\n",
       "      <td>4</td>\n",
       "      <td>False</td>\n",
       "      <td>Ms.</td>\n",
       "      <td>Janet</td>\n",
       "      <td>M.</td>\n",
       "      <td>Gates</td>\n",
       "      <td>None</td>\n",
       "      <td>Modular Cycle Systems</td>\n",
       "      <td>adventure-works\\jillian0</td>\n",
       "      <td>janet1@adventure-works.com</td>\n",
       "      <td>710-555-0173</td>\n",
       "      <td>ElzTpSNbUW1Ut+L5cWlfR7MF6nBZia8WpmGaQPjLOJA=</td>\n",
       "      <td>nm7D5e4=</td>\n",
       "      <td>FF862851-1DAA-4044-BE7C-3E85583C054D</td>\n",
       "      <td>2006-07-01</td>\n",
       "    </tr>\n",
       "    <tr>\n",
       "      <th>4</th>\n",
       "      <td>5</td>\n",
       "      <td>False</td>\n",
       "      <td>Mr.</td>\n",
       "      <td>Lucy</td>\n",
       "      <td>None</td>\n",
       "      <td>Harrington</td>\n",
       "      <td>None</td>\n",
       "      <td>Metropolitan Sports Supply</td>\n",
       "      <td>adventure-works\\shu0</td>\n",
       "      <td>lucy0@adventure-works.com</td>\n",
       "      <td>828-555-0186</td>\n",
       "      <td>KJqV15wsX3PG8TS5GSddp6LFFVdd3CoRftZM/tP0+R4=</td>\n",
       "      <td>cNFKU4w=</td>\n",
       "      <td>83905BDC-6F5E-4F71-B162-C98DA069F38A</td>\n",
       "      <td>2006-09-01</td>\n",
       "    </tr>\n",
       "  </tbody>\n",
       "</table>\n",
       "</div>"
      ],
      "text/plain": [
       "   CustomerID  NameStyle Title FirstName MiddleName    LastName Suffix  \\\n",
       "0           1      False   Mr.   Orlando         N.         Gee   None   \n",
       "1           2      False   Mr.     Keith       None      Harris   None   \n",
       "2           3      False   Ms.     Donna         F.    Carreras   None   \n",
       "3           4      False   Ms.     Janet         M.       Gates   None   \n",
       "4           5      False   Mr.      Lucy       None  Harrington   None   \n",
       "\n",
       "                  CompanyName               SalesPerson  \\\n",
       "0                A Bike Store   adventure-works\\pamela0   \n",
       "1          Progressive Sports    adventure-works\\david8   \n",
       "2    Advanced Bike Components  adventure-works\\jillian0   \n",
       "3       Modular Cycle Systems  adventure-works\\jillian0   \n",
       "4  Metropolitan Sports Supply      adventure-works\\shu0   \n",
       "\n",
       "                   EmailAddress         Phone  \\\n",
       "0  orlando0@adventure-works.com  245-555-0173   \n",
       "1    keith0@adventure-works.com  170-555-0127   \n",
       "2    donna0@adventure-works.com  279-555-0130   \n",
       "3    janet1@adventure-works.com  710-555-0173   \n",
       "4     lucy0@adventure-works.com  828-555-0186   \n",
       "\n",
       "                                   PasswordHash PasswordSalt  \\\n",
       "0  L/Rlwxzp4w7RWmEgXX+/A7cXaePEPcp+KwQhl2fJL7w=     1KjXYs4=   \n",
       "1  YPdtRdvqeAhj6wyxEsFdshBDNXxkCXn+CRgbvJItknw=     fs1ZGhY=   \n",
       "2  LNoK27abGQo48gGue3EBV/UrlYSToV0/s87dCRV7uJk=     YTNH5Rw=   \n",
       "3  ElzTpSNbUW1Ut+L5cWlfR7MF6nBZia8WpmGaQPjLOJA=     nm7D5e4=   \n",
       "4  KJqV15wsX3PG8TS5GSddp6LFFVdd3CoRftZM/tP0+R4=     cNFKU4w=   \n",
       "\n",
       "                                rowguid ModifiedDate  \n",
       "0  3F5AE95E-B87D-4AED-95B4-C3797AFCB74F   2005-08-01  \n",
       "1  E552F657-A9AF-4A7D-A645-C429D6E02491   2006-08-01  \n",
       "2  130774B1-DB21-4EF3-98C8-C104BCD6ED6D   2005-09-01  \n",
       "3  FF862851-1DAA-4044-BE7C-3E85583C054D   2006-07-01  \n",
       "4  83905BDC-6F5E-4F71-B162-C98DA069F38A   2006-09-01  "
      ]
     },
     "execution_count": 112,
     "metadata": {},
     "output_type": "execute_result"
    }
   ],
   "source": [
    "import pandas as pd \n",
    "query = \"SELECT * FROM SalesLT.customer\"\n",
    "datos = pd.read_sql(query, conn)\n",
    "datos.head()"
   ]
  },
  {
   "cell_type": "code",
   "execution_count": 113,
   "id": "4acc271e",
   "metadata": {},
   "outputs": [
    {
     "data": {
      "text/plain": [
       "Index(['CustomerID', 'NameStyle', 'Title', 'FirstName', 'MiddleName',\n",
       "       'LastName', 'Suffix', 'CompanyName', 'SalesPerson', 'EmailAddress',\n",
       "       'Phone', 'PasswordHash', 'PasswordSalt', 'rowguid', 'ModifiedDate'],\n",
       "      dtype='object')"
      ]
     },
     "execution_count": 113,
     "metadata": {},
     "output_type": "execute_result"
    }
   ],
   "source": [
    "datos.columns"
   ]
  },
  {
   "cell_type": "markdown",
   "id": "e9cc353b",
   "metadata": {},
   "source": [
    "Asegurando que tenemos los datos, podemos cerrar la conexión. "
   ]
  },
  {
   "cell_type": "code",
   "execution_count": 114,
   "id": "60a53480",
   "metadata": {},
   "outputs": [],
   "source": [
    "conn.close()"
   ]
  },
  {
   "cell_type": "markdown",
   "id": "2400cfed",
   "metadata": {},
   "source": [
    "Se predecirá `ModifiedDate` según otros datos numéricos en la base de datos, como lo son `CustomerID` y `Phone`"
   ]
  },
  {
   "cell_type": "code",
   "execution_count": 115,
   "id": "89633792",
   "metadata": {},
   "outputs": [],
   "source": [
    "from sklearn.model_selection import train_test_split\n",
    "from sklearn.linear_model import LinearRegression\n",
    "from sklearn.metrics import mean_squared_error, r2_score\n",
    "import numpy as np"
   ]
  },
  {
   "cell_type": "code",
   "execution_count": 116,
   "id": "5e48ac7d",
   "metadata": {},
   "outputs": [],
   "source": [
    "datos = datos[['CustomerID', 'Phone', 'ModifiedDate']]"
   ]
  },
  {
   "cell_type": "code",
   "execution_count": null,
   "id": "a18bfdfa",
   "metadata": {},
   "outputs": [
    {
     "data": {
      "application/vnd.microsoft.datawrangler.viewer.v0+json": {
       "columns": [
        {
         "name": "index",
         "rawType": "int64",
         "type": "integer"
        },
        {
         "name": "CustomerID",
         "rawType": "int64",
         "type": "integer"
        },
        {
         "name": "Phone",
         "rawType": "float64",
         "type": "float"
        },
        {
         "name": "ModifiedDate",
         "rawType": "datetime64[ns]",
         "type": "datetime"
        }
       ],
       "conversionMethod": "pd.DataFrame",
       "ref": "2d3f4d7b-003a-41f8-b5ff-1d162fa467f7",
       "rows": [
        [
         "0",
         "1",
         "2455550173.0",
         "2005-08-01 00:00:00"
        ],
        [
         "1",
         "2",
         "1705550127.0",
         "2006-08-01 00:00:00"
        ],
        [
         "2",
         "3",
         "2795550130.0",
         "2005-09-01 00:00:00"
        ],
        [
         "3",
         "4",
         "7105550173.0",
         "2006-07-01 00:00:00"
        ],
        [
         "4",
         "5",
         "8285550186.0",
         "2006-09-01 00:00:00"
        ],
        [
         "5",
         "6",
         "2445550112.0",
         "2007-09-01 00:00:00"
        ],
        [
         "6",
         "7",
         "1925550173.0",
         "2006-07-01 00:00:00"
        ],
        [
         "7",
         "10",
         "1505550127.0",
         "2006-09-01 00:00:00"
        ],
        [
         "8",
         "11",
         "9265550159.0",
         "2005-08-01 00:00:00"
        ],
        [
         "9",
         "12",
         "1125550191.0",
         "2006-08-01 00:00:00"
        ],
        [
         "10",
         "16",
         "1115005550132.0",
         "2006-09-01 00:00:00"
        ],
        [
         "11",
         "18",
         "4405550132.0",
         "2005-08-01 00:00:00"
        ],
        [
         "12",
         "19",
         "5215550195.0",
         "2007-04-01 00:00:00"
        ],
        [
         "13",
         "20",
         "5825550113.0",
         "2005-09-01 00:00:00"
        ],
        [
         "14",
         "21",
         "9285550116.0",
         "2006-09-01 00:00:00"
        ],
        [
         "15",
         "22",
         "1215550121.0",
         "2005-08-01 00:00:00"
        ],
        [
         "16",
         "23",
         "2165550122.0",
         "2006-09-01 00:00:00"
        ],
        [
         "17",
         "24",
         "9265550164.0",
         "2006-09-01 00:00:00"
        ],
        [
         "18",
         "25",
         "3575550161.0",
         "2006-09-01 00:00:00"
        ],
        [
         "19",
         "28",
         "9725550163.0",
         "2007-08-01 00:00:00"
        ],
        [
         "20",
         "29",
         "3445550144.0",
         "2005-08-01 00:00:00"
        ],
        [
         "21",
         "30",
         "7835550110.0",
         "2006-09-01 00:00:00"
        ],
        [
         "22",
         "34",
         "1115005550181.0",
         "2007-07-01 00:00:00"
        ],
        [
         "23",
         "37",
         "7245550161.0",
         "2006-09-01 00:00:00"
        ],
        [
         "24",
         "38",
         "8675550114.0",
         "2007-09-01 00:00:00"
        ],
        [
         "25",
         "39",
         "3775550132.0",
         "2006-09-01 00:00:00"
        ],
        [
         "26",
         "40",
         "4175550182.0",
         "2005-08-01 00:00:00"
        ],
        [
         "27",
         "41",
         "2445550127.0",
         "2006-07-01 00:00:00"
        ],
        [
         "28",
         "42",
         "9115550165.0",
         "2006-07-01 00:00:00"
        ],
        [
         "29",
         "43",
         "4825550174.0",
         "2006-08-01 00:00:00"
        ],
        [
         "30",
         "46",
         "6535550159.0",
         "2006-12-01 00:00:00"
        ],
        [
         "31",
         "47",
         "1415550172.0",
         "2005-09-01 00:00:00"
        ],
        [
         "32",
         "48",
         "1645550118.0",
         "2007-09-01 00:00:00"
        ],
        [
         "33",
         "52",
         "1115005550155.0",
         "2007-09-01 00:00:00"
        ],
        [
         "34",
         "55",
         "9325550163.0",
         "2007-09-01 00:00:00"
        ],
        [
         "35",
         "56",
         "4615550118.0",
         "2006-08-01 00:00:00"
        ],
        [
         "36",
         "57",
         "2605550130.0",
         "2005-09-01 00:00:00"
        ],
        [
         "37",
         "58",
         "4365550160.0",
         "2005-11-01 00:00:00"
        ],
        [
         "38",
         "59",
         "3855550140.0",
         "2007-09-01 00:00:00"
        ],
        [
         "39",
         "60",
         "1835550111.0",
         "2007-09-01 00:00:00"
        ],
        [
         "40",
         "61",
         "4525550179.0",
         "2006-09-01 00:00:00"
        ],
        [
         "41",
         "64",
         "2905550196.0",
         "2007-08-01 00:00:00"
        ],
        [
         "42",
         "65",
         "7375550163.0",
         "2006-08-01 00:00:00"
        ],
        [
         "43",
         "66",
         "3945550176.0",
         "2006-08-01 00:00:00"
        ],
        [
         "44",
         "70",
         "1115005550122.0",
         "2007-08-01 00:00:00"
        ],
        [
         "45",
         "73",
         "1075550132.0",
         "2005-08-01 00:00:00"
        ],
        [
         "46",
         "74",
         "1625550166.0",
         "2005-11-01 00:00:00"
        ],
        [
         "47",
         "75",
         "3585550188.0",
         "2005-09-01 00:00:00"
        ],
        [
         "48",
         "76",
         "2655550190.0",
         "2005-09-01 00:00:00"
        ],
        [
         "49",
         "77",
         "1285550148.0",
         "2006-08-01 00:00:00"
        ]
       ],
       "shape": {
        "columns": 3,
        "rows": 847
       }
      },
      "text/html": [
       "<div>\n",
       "<style scoped>\n",
       "    .dataframe tbody tr th:only-of-type {\n",
       "        vertical-align: middle;\n",
       "    }\n",
       "\n",
       "    .dataframe tbody tr th {\n",
       "        vertical-align: top;\n",
       "    }\n",
       "\n",
       "    .dataframe thead th {\n",
       "        text-align: right;\n",
       "    }\n",
       "</style>\n",
       "<table border=\"1\" class=\"dataframe\">\n",
       "  <thead>\n",
       "    <tr style=\"text-align: right;\">\n",
       "      <th></th>\n",
       "      <th>CustomerID</th>\n",
       "      <th>Phone</th>\n",
       "      <th>ModifiedDate</th>\n",
       "    </tr>\n",
       "  </thead>\n",
       "  <tbody>\n",
       "    <tr>\n",
       "      <th>0</th>\n",
       "      <td>1</td>\n",
       "      <td>2.455550e+09</td>\n",
       "      <td>2005-08-01</td>\n",
       "    </tr>\n",
       "    <tr>\n",
       "      <th>1</th>\n",
       "      <td>2</td>\n",
       "      <td>1.705550e+09</td>\n",
       "      <td>2006-08-01</td>\n",
       "    </tr>\n",
       "    <tr>\n",
       "      <th>2</th>\n",
       "      <td>3</td>\n",
       "      <td>2.795550e+09</td>\n",
       "      <td>2005-09-01</td>\n",
       "    </tr>\n",
       "    <tr>\n",
       "      <th>3</th>\n",
       "      <td>4</td>\n",
       "      <td>7.105550e+09</td>\n",
       "      <td>2006-07-01</td>\n",
       "    </tr>\n",
       "    <tr>\n",
       "      <th>4</th>\n",
       "      <td>5</td>\n",
       "      <td>8.285550e+09</td>\n",
       "      <td>2006-09-01</td>\n",
       "    </tr>\n",
       "    <tr>\n",
       "      <th>...</th>\n",
       "      <td>...</td>\n",
       "      <td>...</td>\n",
       "      <td>...</td>\n",
       "    </tr>\n",
       "    <tr>\n",
       "      <th>842</th>\n",
       "      <td>30113</td>\n",
       "      <td>1.115006e+12</td>\n",
       "      <td>2006-09-01</td>\n",
       "    </tr>\n",
       "    <tr>\n",
       "      <th>843</th>\n",
       "      <td>30115</td>\n",
       "      <td>1.555550e+09</td>\n",
       "      <td>2006-08-01</td>\n",
       "    </tr>\n",
       "    <tr>\n",
       "      <th>844</th>\n",
       "      <td>30116</td>\n",
       "      <td>4.335550e+09</td>\n",
       "      <td>2007-07-01</td>\n",
       "    </tr>\n",
       "    <tr>\n",
       "      <th>845</th>\n",
       "      <td>30117</td>\n",
       "      <td>5.605550e+09</td>\n",
       "      <td>2005-08-01</td>\n",
       "    </tr>\n",
       "    <tr>\n",
       "      <th>846</th>\n",
       "      <td>30118</td>\n",
       "      <td>6.955550e+09</td>\n",
       "      <td>2006-09-01</td>\n",
       "    </tr>\n",
       "  </tbody>\n",
       "</table>\n",
       "<p>847 rows × 3 columns</p>\n",
       "</div>"
      ],
      "text/plain": [
       "     CustomerID         Phone ModifiedDate\n",
       "0             1  2.455550e+09   2005-08-01\n",
       "1             2  1.705550e+09   2006-08-01\n",
       "2             3  2.795550e+09   2005-09-01\n",
       "3             4  7.105550e+09   2006-07-01\n",
       "4             5  8.285550e+09   2006-09-01\n",
       "..          ...           ...          ...\n",
       "842       30113  1.115006e+12   2006-09-01\n",
       "843       30115  1.555550e+09   2006-08-01\n",
       "844       30116  4.335550e+09   2007-07-01\n",
       "845       30117  5.605550e+09   2005-08-01\n",
       "846       30118  6.955550e+09   2006-09-01\n",
       "\n",
       "[847 rows x 3 columns]"
      ]
     },
     "execution_count": 117,
     "metadata": {},
     "output_type": "execute_result"
    }
   ],
   "source": [
    "datos['Phone'] = datos['Phone'].str.replace('-', '')\n",
    "datos['Phone'] = datos['Phone'].str.replace(' ', '')\n",
    "datos['Phone'] = datos['Phone'].str.replace('(', '')\n",
    "datos['Phone'] = datos['Phone'].str.replace(')', '')\n",
    "datos['Phone'] = datos['Phone'].str.replace('+', '')\n",
    "datos['Phone'] = datos['Phone'].astype(np.float64)\n",
    "datos"
   ]
  },
  {
   "cell_type": "code",
   "execution_count": 118,
   "id": "7e8052c3",
   "metadata": {},
   "outputs": [
    {
     "data": {
      "application/vnd.microsoft.datawrangler.viewer.v0+json": {
       "columns": [
        {
         "name": "index",
         "rawType": "int64",
         "type": "integer"
        },
        {
         "name": "CustomerID",
         "rawType": "int64",
         "type": "integer"
        },
        {
         "name": "Phone",
         "rawType": "float64",
         "type": "float"
        },
        {
         "name": "ModifiedDate",
         "rawType": "float64",
         "type": "float"
        }
       ],
       "conversionMethod": "pd.DataFrame",
       "ref": "799445c6-cef7-426c-97f4-6ff0ba803d20",
       "rows": [
        [
         "0",
         "1",
         "2455550173.0",
         "1122854400.0"
        ],
        [
         "1",
         "2",
         "1705550127.0",
         "1154390400.0"
        ],
        [
         "2",
         "3",
         "2795550130.0",
         "1125532800.0"
        ],
        [
         "3",
         "4",
         "7105550173.0",
         "1151712000.0"
        ],
        [
         "4",
         "5",
         "8285550186.0",
         "1157068800.0"
        ],
        [
         "5",
         "6",
         "2445550112.0",
         "1188604800.0"
        ],
        [
         "6",
         "7",
         "1925550173.0",
         "1151712000.0"
        ],
        [
         "7",
         "10",
         "1505550127.0",
         "1157068800.0"
        ],
        [
         "8",
         "11",
         "9265550159.0",
         "1122854400.0"
        ],
        [
         "9",
         "12",
         "1125550191.0",
         "1154390400.0"
        ],
        [
         "10",
         "16",
         "1115005550132.0",
         "1157068800.0"
        ],
        [
         "11",
         "18",
         "4405550132.0",
         "1122854400.0"
        ],
        [
         "12",
         "19",
         "5215550195.0",
         "1175385600.0"
        ],
        [
         "13",
         "20",
         "5825550113.0",
         "1125532800.0"
        ],
        [
         "14",
         "21",
         "9285550116.0",
         "1157068800.0"
        ],
        [
         "15",
         "22",
         "1215550121.0",
         "1122854400.0"
        ],
        [
         "16",
         "23",
         "2165550122.0",
         "1157068800.0"
        ],
        [
         "17",
         "24",
         "9265550164.0",
         "1157068800.0"
        ],
        [
         "18",
         "25",
         "3575550161.0",
         "1157068800.0"
        ],
        [
         "19",
         "28",
         "9725550163.0",
         "1185926400.0"
        ],
        [
         "20",
         "29",
         "3445550144.0",
         "1122854400.0"
        ],
        [
         "21",
         "30",
         "7835550110.0",
         "1157068800.0"
        ],
        [
         "22",
         "34",
         "1115005550181.0",
         "1183248000.0"
        ],
        [
         "23",
         "37",
         "7245550161.0",
         "1157068800.0"
        ],
        [
         "24",
         "38",
         "8675550114.0",
         "1188604800.0"
        ],
        [
         "25",
         "39",
         "3775550132.0",
         "1157068800.0"
        ],
        [
         "26",
         "40",
         "4175550182.0",
         "1122854400.0"
        ],
        [
         "27",
         "41",
         "2445550127.0",
         "1151712000.0"
        ],
        [
         "28",
         "42",
         "9115550165.0",
         "1151712000.0"
        ],
        [
         "29",
         "43",
         "4825550174.0",
         "1154390400.0"
        ],
        [
         "30",
         "46",
         "6535550159.0",
         "1164931200.0"
        ],
        [
         "31",
         "47",
         "1415550172.0",
         "1125532800.0"
        ],
        [
         "32",
         "48",
         "1645550118.0",
         "1188604800.0"
        ],
        [
         "33",
         "52",
         "1115005550155.0",
         "1188604800.0"
        ],
        [
         "34",
         "55",
         "9325550163.0",
         "1188604800.0"
        ],
        [
         "35",
         "56",
         "4615550118.0",
         "1154390400.0"
        ],
        [
         "36",
         "57",
         "2605550130.0",
         "1125532800.0"
        ],
        [
         "37",
         "58",
         "4365550160.0",
         "1130803200.0"
        ],
        [
         "38",
         "59",
         "3855550140.0",
         "1188604800.0"
        ],
        [
         "39",
         "60",
         "1835550111.0",
         "1188604800.0"
        ],
        [
         "40",
         "61",
         "4525550179.0",
         "1157068800.0"
        ],
        [
         "41",
         "64",
         "2905550196.0",
         "1185926400.0"
        ],
        [
         "42",
         "65",
         "7375550163.0",
         "1154390400.0"
        ],
        [
         "43",
         "66",
         "3945550176.0",
         "1154390400.0"
        ],
        [
         "44",
         "70",
         "1115005550122.0",
         "1185926400.0"
        ],
        [
         "45",
         "73",
         "1075550132.0",
         "1122854400.0"
        ],
        [
         "46",
         "74",
         "1625550166.0",
         "1130803200.0"
        ],
        [
         "47",
         "75",
         "3585550188.0",
         "1125532800.0"
        ],
        [
         "48",
         "76",
         "2655550190.0",
         "1125532800.0"
        ],
        [
         "49",
         "77",
         "1285550148.0",
         "1154390400.0"
        ]
       ],
       "shape": {
        "columns": 3,
        "rows": 847
       }
      },
      "text/html": [
       "<div>\n",
       "<style scoped>\n",
       "    .dataframe tbody tr th:only-of-type {\n",
       "        vertical-align: middle;\n",
       "    }\n",
       "\n",
       "    .dataframe tbody tr th {\n",
       "        vertical-align: top;\n",
       "    }\n",
       "\n",
       "    .dataframe thead th {\n",
       "        text-align: right;\n",
       "    }\n",
       "</style>\n",
       "<table border=\"1\" class=\"dataframe\">\n",
       "  <thead>\n",
       "    <tr style=\"text-align: right;\">\n",
       "      <th></th>\n",
       "      <th>CustomerID</th>\n",
       "      <th>Phone</th>\n",
       "      <th>ModifiedDate</th>\n",
       "    </tr>\n",
       "  </thead>\n",
       "  <tbody>\n",
       "    <tr>\n",
       "      <th>0</th>\n",
       "      <td>1</td>\n",
       "      <td>2.455550e+09</td>\n",
       "      <td>1.122854e+09</td>\n",
       "    </tr>\n",
       "    <tr>\n",
       "      <th>1</th>\n",
       "      <td>2</td>\n",
       "      <td>1.705550e+09</td>\n",
       "      <td>1.154390e+09</td>\n",
       "    </tr>\n",
       "    <tr>\n",
       "      <th>2</th>\n",
       "      <td>3</td>\n",
       "      <td>2.795550e+09</td>\n",
       "      <td>1.125533e+09</td>\n",
       "    </tr>\n",
       "    <tr>\n",
       "      <th>3</th>\n",
       "      <td>4</td>\n",
       "      <td>7.105550e+09</td>\n",
       "      <td>1.151712e+09</td>\n",
       "    </tr>\n",
       "    <tr>\n",
       "      <th>4</th>\n",
       "      <td>5</td>\n",
       "      <td>8.285550e+09</td>\n",
       "      <td>1.157069e+09</td>\n",
       "    </tr>\n",
       "    <tr>\n",
       "      <th>...</th>\n",
       "      <td>...</td>\n",
       "      <td>...</td>\n",
       "      <td>...</td>\n",
       "    </tr>\n",
       "    <tr>\n",
       "      <th>842</th>\n",
       "      <td>30113</td>\n",
       "      <td>1.115006e+12</td>\n",
       "      <td>1.157069e+09</td>\n",
       "    </tr>\n",
       "    <tr>\n",
       "      <th>843</th>\n",
       "      <td>30115</td>\n",
       "      <td>1.555550e+09</td>\n",
       "      <td>1.154390e+09</td>\n",
       "    </tr>\n",
       "    <tr>\n",
       "      <th>844</th>\n",
       "      <td>30116</td>\n",
       "      <td>4.335550e+09</td>\n",
       "      <td>1.183248e+09</td>\n",
       "    </tr>\n",
       "    <tr>\n",
       "      <th>845</th>\n",
       "      <td>30117</td>\n",
       "      <td>5.605550e+09</td>\n",
       "      <td>1.122854e+09</td>\n",
       "    </tr>\n",
       "    <tr>\n",
       "      <th>846</th>\n",
       "      <td>30118</td>\n",
       "      <td>6.955550e+09</td>\n",
       "      <td>1.157069e+09</td>\n",
       "    </tr>\n",
       "  </tbody>\n",
       "</table>\n",
       "<p>847 rows × 3 columns</p>\n",
       "</div>"
      ],
      "text/plain": [
       "     CustomerID         Phone  ModifiedDate\n",
       "0             1  2.455550e+09  1.122854e+09\n",
       "1             2  1.705550e+09  1.154390e+09\n",
       "2             3  2.795550e+09  1.125533e+09\n",
       "3             4  7.105550e+09  1.151712e+09\n",
       "4             5  8.285550e+09  1.157069e+09\n",
       "..          ...           ...           ...\n",
       "842       30113  1.115006e+12  1.157069e+09\n",
       "843       30115  1.555550e+09  1.154390e+09\n",
       "844       30116  4.335550e+09  1.183248e+09\n",
       "845       30117  5.605550e+09  1.122854e+09\n",
       "846       30118  6.955550e+09  1.157069e+09\n",
       "\n",
       "[847 rows x 3 columns]"
      ]
     },
     "execution_count": 118,
     "metadata": {},
     "output_type": "execute_result"
    }
   ],
   "source": [
    "datos['ModifiedDate'] = pd.to_datetime(datos['ModifiedDate']) \n",
    "datos['ModifiedDate'] = datos['ModifiedDate'].map(pd.Timestamp.timestamp)\n",
    "datos"
   ]
  },
  {
   "cell_type": "code",
   "execution_count": 119,
   "id": "a7fa0c34",
   "metadata": {},
   "outputs": [],
   "source": [
    "numbers = ['CustomerID', 'Phone']\n",
    "X = datos[numbers]\n",
    "X = X.fillna(0)  \n",
    "y = datos['ModifiedDate']\n",
    "\n",
    "X_train, X_test, y_train, y_test = train_test_split(X, y, test_size = 0.2)"
   ]
  },
  {
   "cell_type": "code",
   "execution_count": 120,
   "id": "83cb721b",
   "metadata": {},
   "outputs": [],
   "source": [
    "model = LinearRegression()\n",
    "model.fit(X_train, y_train)\n",
    "y_pred = model.predict(X_test)"
   ]
  },
  {
   "cell_type": "code",
   "execution_count": 121,
   "id": "2e21e7f6",
   "metadata": {},
   "outputs": [
    {
     "name": "stdout",
     "output_type": "stream",
     "text": [
      "Error cuadrado medio: 809698940300736.9\n",
      "R^2: 0.017466341889975534\n"
     ]
    }
   ],
   "source": [
    "mse = mean_squared_error(y_test, y_pred)\n",
    "print(f\"Error cuadrado medio: {mse}\")\n",
    "r2 = r2_score(y_test, y_pred)\n",
    "print(f\"R^2: {r2}\")"
   ]
  },
  {
   "cell_type": "markdown",
   "id": "ad764ce9",
   "metadata": {},
   "source": [
    "Para interpretar estos números, es conveniente convertir los números de regreso a valores de fechas"
   ]
  },
  {
   "cell_type": "code",
   "execution_count": 122,
   "id": "732ac696",
   "metadata": {},
   "outputs": [],
   "source": [
    "y_test_dates = pd.to_datetime(y_test, unit = 's') # Valores originales\n",
    "y_pred_dates = pd.to_datetime(y_pred, unit = 's') # Valores predichos "
   ]
  },
  {
   "cell_type": "markdown",
   "id": "0358a9f0",
   "metadata": {},
   "source": [
    "Y se le da una interpretación a los errores obtenidos en días. Lo siguiente fue hecho con ayuda de IA. "
   ]
  },
  {
   "cell_type": "code",
   "execution_count": 123,
   "id": "5f76e39c",
   "metadata": {},
   "outputs": [
    {
     "name": "stdout",
     "output_type": "stream",
     "text": [
      "Mean Absolute Error (MAE) in days: 270.34\n",
      "Mean Squared Error (MSE): 809698940300736.9\n",
      "R-squared (R²): 0.017466341889975534\n"
     ]
    }
   ],
   "source": [
    "# Absolute error in days\n",
    "absolute_errors = (y_test_dates - y_pred_dates).abs()\n",
    "absolute_errors_in_days = absolute_errors.dt.total_seconds() / (60 * 60 * 24)  # Convert seconds to days\n",
    "\n",
    "# Mean Absolute Error (in days)\n",
    "mae_days = absolute_errors_in_days.mean()\n",
    "print(f\"Mean Absolute Error (MAE) in days: {mae_days:.2f}\")\n",
    "\n",
    "# Evaluate Mean Squared Error (MSE) and R² for reference\n",
    "mse = mean_squared_error(y_test, y_pred)\n",
    "r2 = r2_score(y_test, y_pred)\n",
    "print(f\"Mean Squared Error (MSE): {mse}\")\n",
    "print(f\"R-squared (R²): {r2}\")"
   ]
  },
  {
   "cell_type": "markdown",
   "id": "88db1779",
   "metadata": {},
   "source": [
    "Podemos mostrar algunos ejemplos de las fechas originales vs. las fechas predichas para observar los errores del modelo. "
   ]
  },
  {
   "cell_type": "code",
   "execution_count": 124,
   "id": "8efa89ae",
   "metadata": {},
   "outputs": [
    {
     "name": "stdout",
     "output_type": "stream",
     "text": [
      "    Fecha real      Fecha predicha  Error absoluto (días)\n",
      "434 2006-08-01 2006-07-03 04:28:38                  28.81\n",
      "780 2006-09-01 2007-02-11 22:17:35                 163.93\n",
      "620 2006-07-01 2007-02-12 02:40:07                 226.11\n",
      "545 2006-07-01 2006-06-10 11:00:52                  20.54\n",
      "484 2005-09-01 2006-06-10 09:16:30                 282.39\n"
     ]
    }
   ],
   "source": [
    "compara = pd.DataFrame({\n",
    "    'Fecha real': y_test_dates,\n",
    "    'Fecha predicha': y_pred_dates.round('s'),\n",
    "    'Error absoluto (días)': absolute_errors_in_days.round(2)\n",
    "})\n",
    "print(compara.head())"
   ]
  },
  {
   "cell_type": "markdown",
   "id": "6fe462d2",
   "metadata": {},
   "source": [
    "Ahora exportamos el modelo como archivo .pkl"
   ]
  },
  {
   "cell_type": "code",
   "execution_count": 125,
   "id": "01f38e11",
   "metadata": {},
   "outputs": [
    {
     "name": "stdout",
     "output_type": "stream",
     "text": [
      "Modelo exportado como 'model_regression.pkl'\n"
     ]
    }
   ],
   "source": [
    "import joblib\n",
    "\n",
    "joblib.dump(model, 'model_regression.pkl')\n",
    "print(\"Modelo exportado como 'model_regression.pkl'\")"
   ]
  }
 ],
 "metadata": {
  "kernelspec": {
   "display_name": "Python 3",
   "language": "python",
   "name": "python3"
  },
  "language_info": {
   "codemirror_mode": {
    "name": "ipython",
    "version": 3
   },
   "file_extension": ".py",
   "mimetype": "text/x-python",
   "name": "python",
   "nbconvert_exporter": "python",
   "pygments_lexer": "ipython3",
   "version": "3.11.5"
  }
 },
 "nbformat": 4,
 "nbformat_minor": 5
}
