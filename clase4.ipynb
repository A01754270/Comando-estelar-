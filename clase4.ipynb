{
 "cells": [
  {
   "cell_type": "markdown",
   "id": "31e80c6e",
   "metadata": {},
   "source": [
    "# Actividad Cloud Computing "
   ]
  },
  {
   "cell_type": "markdown",
   "id": "43c26523",
   "metadata": {},
   "source": [
    "## 1. Mostrar base de datos en SQL\n",
    "Abran un servidor en Azure con la base de datos de prueba de SQL. "
   ]
  },
  {
   "cell_type": "markdown",
   "id": "f8b7889d",
   "metadata": {},
   "source": [
    "Usamos ODBC para jalar los datos a Python"
   ]
  },
  {
   "cell_type": "markdown",
   "id": "77c69b74",
   "metadata": {},
   "source": [
    "Asegurando su instalación:"
   ]
  },
  {
   "cell_type": "code",
   "execution_count": 1,
   "id": "acc540e7",
   "metadata": {},
   "outputs": [
    {
     "data": {
      "text/plain": [
       "0"
      ]
     },
     "execution_count": 1,
     "metadata": {},
     "output_type": "execute_result"
    }
   ],
   "source": [
    "import sys\n",
    "import subprocess\n",
    "\n",
    "# Install pyodbc\n",
    "subprocess.check_call([sys.executable, \"-m\", \"pip\", \"install\", \"sqlalchemy\"])"
   ]
  },
  {
   "cell_type": "code",
   "execution_count": 21,
   "id": "780e3b79",
   "metadata": {},
   "outputs": [
    {
     "name": "stdout",
     "output_type": "stream",
     "text": [
      "Connected to the Azure SQL Database successfully!\n"
     ]
    }
   ],
   "source": [
    "import pyodbc # type: ignore\n",
    "import json\n",
    "\n",
    "# Load the connection details from the JSON file\n",
    "with open(\"connection_details.json\", \"r\") as json_file:\n",
    "    connection_details = json.load(json_file)\n",
    "\n",
    "# Extract the connection details\n",
    "server = connection_details[\"server\"]\n",
    "database = connection_details[\"database\"]\n",
    "username = connection_details[\"username\"]\n",
    "password = connection_details[\"password\"]\n",
    "\n",
    "# Define the connection string for SQL Server (Azure)\n",
    "conn_str = (\n",
    "    f'DRIVER={{ODBC Driver 17 for SQL Server}};'\n",
    "    f'SERVER={server};'\n",
    "    f'DATABASE={database};'\n",
    "    f'UID={username};'\n",
    "    f'PWD={password}'\n",
    ")\n",
    "\n",
    "# Establish the connection\n",
    "try:\n",
    "    conn = pyodbc.connect(conn_str)\n",
    "    print(\"Connected to the Azure SQL Database successfully!\")\n",
    "\n",
    "except pyodbc.Error as e:\n",
    "    print(f\"Error connecting to the database: {e}\")\n"
   ]
  },
  {
   "cell_type": "markdown",
   "id": "6b0de5dc",
   "metadata": {},
   "source": [
    "Se logra establecer conexión con la base de datos de prueba de SQL. "
   ]
  },
  {
   "cell_type": "markdown",
   "id": "d2ea49aa",
   "metadata": {},
   "source": [
    "## 2. Entrenar modelo usando dicha base de datos\n",
    "\n",
    "El modelo, una regresión, deberá predecir fecha de modificación de la tabla SalesLT.costumer "
   ]
  },
  {
   "cell_type": "markdown",
   "id": "5eefc79d",
   "metadata": {},
   "source": [
    "Se tienen los datos de SQL en `datos` en python"
   ]
  },
  {
   "cell_type": "code",
   "execution_count": 22,
   "id": "18136086",
   "metadata": {},
   "outputs": [
    {
     "name": "stderr",
     "output_type": "stream",
     "text": [
      "C:\\Users\\David\\AppData\\Local\\Temp\\ipykernel_32524\\1185087627.py:3: UserWarning: pandas only supports SQLAlchemy connectable (engine/connection) or database string URI or sqlite3 DBAPI2 connection. Other DBAPI2 objects are not tested. Please consider using SQLAlchemy.\n",
      "  datos = pd.read_sql(query, conn)\n"
     ]
    },
    {
     "data": {
      "application/vnd.microsoft.datawrangler.viewer.v0+json": {
       "columns": [
        {
         "name": "index",
         "rawType": "int64",
         "type": "integer"
        },
        {
         "name": "CustomerID",
         "rawType": "int64",
         "type": "integer"
        },
        {
         "name": "NameStyle",
         "rawType": "bool",
         "type": "boolean"
        },
        {
         "name": "Title",
         "rawType": "object",
         "type": "string"
        },
        {
         "name": "FirstName",
         "rawType": "object",
         "type": "string"
        },
        {
         "name": "MiddleName",
         "rawType": "object",
         "type": "unknown"
        },
        {
         "name": "LastName",
         "rawType": "object",
         "type": "string"
        },
        {
         "name": "Suffix",
         "rawType": "object",
         "type": "unknown"
        },
        {
         "name": "CompanyName",
         "rawType": "object",
         "type": "string"
        },
        {
         "name": "SalesPerson",
         "rawType": "object",
         "type": "string"
        },
        {
         "name": "EmailAddress",
         "rawType": "object",
         "type": "string"
        },
        {
         "name": "Phone",
         "rawType": "object",
         "type": "string"
        },
        {
         "name": "PasswordHash",
         "rawType": "object",
         "type": "string"
        },
        {
         "name": "PasswordSalt",
         "rawType": "object",
         "type": "string"
        },
        {
         "name": "rowguid",
         "rawType": "object",
         "type": "string"
        },
        {
         "name": "ModifiedDate",
         "rawType": "datetime64[ns]",
         "type": "datetime"
        }
       ],
       "conversionMethod": "pd.DataFrame",
       "ref": "2cbb78c8-2e90-4b43-b4ca-9c62b2b8916e",
       "rows": [
        [
         "0",
         "1",
         "False",
         "Mr.",
         "Orlando",
         "N.",
         "Gee",
         null,
         "A Bike Store",
         "adventure-works\\pamela0",
         "orlando0@adventure-works.com",
         "245-555-0173",
         "L/Rlwxzp4w7RWmEgXX+/A7cXaePEPcp+KwQhl2fJL7w=",
         "1KjXYs4=",
         "3F5AE95E-B87D-4AED-95B4-C3797AFCB74F",
         "2005-08-01 00:00:00"
        ],
        [
         "1",
         "2",
         "False",
         "Mr.",
         "Keith",
         null,
         "Harris",
         null,
         "Progressive Sports",
         "adventure-works\\david8",
         "keith0@adventure-works.com",
         "170-555-0127",
         "YPdtRdvqeAhj6wyxEsFdshBDNXxkCXn+CRgbvJItknw=",
         "fs1ZGhY=",
         "E552F657-A9AF-4A7D-A645-C429D6E02491",
         "2006-08-01 00:00:00"
        ],
        [
         "2",
         "3",
         "False",
         "Ms.",
         "Donna",
         "F.",
         "Carreras",
         null,
         "Advanced Bike Components",
         "adventure-works\\jillian0",
         "donna0@adventure-works.com",
         "279-555-0130",
         "LNoK27abGQo48gGue3EBV/UrlYSToV0/s87dCRV7uJk=",
         "YTNH5Rw=",
         "130774B1-DB21-4EF3-98C8-C104BCD6ED6D",
         "2005-09-01 00:00:00"
        ],
        [
         "3",
         "4",
         "False",
         "Ms.",
         "Janet",
         "M.",
         "Gates",
         null,
         "Modular Cycle Systems",
         "adventure-works\\jillian0",
         "janet1@adventure-works.com",
         "710-555-0173",
         "ElzTpSNbUW1Ut+L5cWlfR7MF6nBZia8WpmGaQPjLOJA=",
         "nm7D5e4=",
         "FF862851-1DAA-4044-BE7C-3E85583C054D",
         "2006-07-01 00:00:00"
        ],
        [
         "4",
         "5",
         "False",
         "Mr.",
         "Lucy",
         null,
         "Harrington",
         null,
         "Metropolitan Sports Supply",
         "adventure-works\\shu0",
         "lucy0@adventure-works.com",
         "828-555-0186",
         "KJqV15wsX3PG8TS5GSddp6LFFVdd3CoRftZM/tP0+R4=",
         "cNFKU4w=",
         "83905BDC-6F5E-4F71-B162-C98DA069F38A",
         "2006-09-01 00:00:00"
        ]
       ],
       "shape": {
        "columns": 15,
        "rows": 5
       }
      },
      "text/html": [
       "<div>\n",
       "<style scoped>\n",
       "    .dataframe tbody tr th:only-of-type {\n",
       "        vertical-align: middle;\n",
       "    }\n",
       "\n",
       "    .dataframe tbody tr th {\n",
       "        vertical-align: top;\n",
       "    }\n",
       "\n",
       "    .dataframe thead th {\n",
       "        text-align: right;\n",
       "    }\n",
       "</style>\n",
       "<table border=\"1\" class=\"dataframe\">\n",
       "  <thead>\n",
       "    <tr style=\"text-align: right;\">\n",
       "      <th></th>\n",
       "      <th>CustomerID</th>\n",
       "      <th>NameStyle</th>\n",
       "      <th>Title</th>\n",
       "      <th>FirstName</th>\n",
       "      <th>MiddleName</th>\n",
       "      <th>LastName</th>\n",
       "      <th>Suffix</th>\n",
       "      <th>CompanyName</th>\n",
       "      <th>SalesPerson</th>\n",
       "      <th>EmailAddress</th>\n",
       "      <th>Phone</th>\n",
       "      <th>PasswordHash</th>\n",
       "      <th>PasswordSalt</th>\n",
       "      <th>rowguid</th>\n",
       "      <th>ModifiedDate</th>\n",
       "    </tr>\n",
       "  </thead>\n",
       "  <tbody>\n",
       "    <tr>\n",
       "      <th>0</th>\n",
       "      <td>1</td>\n",
       "      <td>False</td>\n",
       "      <td>Mr.</td>\n",
       "      <td>Orlando</td>\n",
       "      <td>N.</td>\n",
       "      <td>Gee</td>\n",
       "      <td>None</td>\n",
       "      <td>A Bike Store</td>\n",
       "      <td>adventure-works\\pamela0</td>\n",
       "      <td>orlando0@adventure-works.com</td>\n",
       "      <td>245-555-0173</td>\n",
       "      <td>L/Rlwxzp4w7RWmEgXX+/A7cXaePEPcp+KwQhl2fJL7w=</td>\n",
       "      <td>1KjXYs4=</td>\n",
       "      <td>3F5AE95E-B87D-4AED-95B4-C3797AFCB74F</td>\n",
       "      <td>2005-08-01</td>\n",
       "    </tr>\n",
       "    <tr>\n",
       "      <th>1</th>\n",
       "      <td>2</td>\n",
       "      <td>False</td>\n",
       "      <td>Mr.</td>\n",
       "      <td>Keith</td>\n",
       "      <td>None</td>\n",
       "      <td>Harris</td>\n",
       "      <td>None</td>\n",
       "      <td>Progressive Sports</td>\n",
       "      <td>adventure-works\\david8</td>\n",
       "      <td>keith0@adventure-works.com</td>\n",
       "      <td>170-555-0127</td>\n",
       "      <td>YPdtRdvqeAhj6wyxEsFdshBDNXxkCXn+CRgbvJItknw=</td>\n",
       "      <td>fs1ZGhY=</td>\n",
       "      <td>E552F657-A9AF-4A7D-A645-C429D6E02491</td>\n",
       "      <td>2006-08-01</td>\n",
       "    </tr>\n",
       "    <tr>\n",
       "      <th>2</th>\n",
       "      <td>3</td>\n",
       "      <td>False</td>\n",
       "      <td>Ms.</td>\n",
       "      <td>Donna</td>\n",
       "      <td>F.</td>\n",
       "      <td>Carreras</td>\n",
       "      <td>None</td>\n",
       "      <td>Advanced Bike Components</td>\n",
       "      <td>adventure-works\\jillian0</td>\n",
       "      <td>donna0@adventure-works.com</td>\n",
       "      <td>279-555-0130</td>\n",
       "      <td>LNoK27abGQo48gGue3EBV/UrlYSToV0/s87dCRV7uJk=</td>\n",
       "      <td>YTNH5Rw=</td>\n",
       "      <td>130774B1-DB21-4EF3-98C8-C104BCD6ED6D</td>\n",
       "      <td>2005-09-01</td>\n",
       "    </tr>\n",
       "    <tr>\n",
       "      <th>3</th>\n",
       "      <td>4</td>\n",
       "      <td>False</td>\n",
       "      <td>Ms.</td>\n",
       "      <td>Janet</td>\n",
       "      <td>M.</td>\n",
       "      <td>Gates</td>\n",
       "      <td>None</td>\n",
       "      <td>Modular Cycle Systems</td>\n",
       "      <td>adventure-works\\jillian0</td>\n",
       "      <td>janet1@adventure-works.com</td>\n",
       "      <td>710-555-0173</td>\n",
       "      <td>ElzTpSNbUW1Ut+L5cWlfR7MF6nBZia8WpmGaQPjLOJA=</td>\n",
       "      <td>nm7D5e4=</td>\n",
       "      <td>FF862851-1DAA-4044-BE7C-3E85583C054D</td>\n",
       "      <td>2006-07-01</td>\n",
       "    </tr>\n",
       "    <tr>\n",
       "      <th>4</th>\n",
       "      <td>5</td>\n",
       "      <td>False</td>\n",
       "      <td>Mr.</td>\n",
       "      <td>Lucy</td>\n",
       "      <td>None</td>\n",
       "      <td>Harrington</td>\n",
       "      <td>None</td>\n",
       "      <td>Metropolitan Sports Supply</td>\n",
       "      <td>adventure-works\\shu0</td>\n",
       "      <td>lucy0@adventure-works.com</td>\n",
       "      <td>828-555-0186</td>\n",
       "      <td>KJqV15wsX3PG8TS5GSddp6LFFVdd3CoRftZM/tP0+R4=</td>\n",
       "      <td>cNFKU4w=</td>\n",
       "      <td>83905BDC-6F5E-4F71-B162-C98DA069F38A</td>\n",
       "      <td>2006-09-01</td>\n",
       "    </tr>\n",
       "  </tbody>\n",
       "</table>\n",
       "</div>"
      ],
      "text/plain": [
       "   CustomerID  NameStyle Title FirstName MiddleName    LastName Suffix  \\\n",
       "0           1      False   Mr.   Orlando         N.         Gee   None   \n",
       "1           2      False   Mr.     Keith       None      Harris   None   \n",
       "2           3      False   Ms.     Donna         F.    Carreras   None   \n",
       "3           4      False   Ms.     Janet         M.       Gates   None   \n",
       "4           5      False   Mr.      Lucy       None  Harrington   None   \n",
       "\n",
       "                  CompanyName               SalesPerson  \\\n",
       "0                A Bike Store   adventure-works\\pamela0   \n",
       "1          Progressive Sports    adventure-works\\david8   \n",
       "2    Advanced Bike Components  adventure-works\\jillian0   \n",
       "3       Modular Cycle Systems  adventure-works\\jillian0   \n",
       "4  Metropolitan Sports Supply      adventure-works\\shu0   \n",
       "\n",
       "                   EmailAddress         Phone  \\\n",
       "0  orlando0@adventure-works.com  245-555-0173   \n",
       "1    keith0@adventure-works.com  170-555-0127   \n",
       "2    donna0@adventure-works.com  279-555-0130   \n",
       "3    janet1@adventure-works.com  710-555-0173   \n",
       "4     lucy0@adventure-works.com  828-555-0186   \n",
       "\n",
       "                                   PasswordHash PasswordSalt  \\\n",
       "0  L/Rlwxzp4w7RWmEgXX+/A7cXaePEPcp+KwQhl2fJL7w=     1KjXYs4=   \n",
       "1  YPdtRdvqeAhj6wyxEsFdshBDNXxkCXn+CRgbvJItknw=     fs1ZGhY=   \n",
       "2  LNoK27abGQo48gGue3EBV/UrlYSToV0/s87dCRV7uJk=     YTNH5Rw=   \n",
       "3  ElzTpSNbUW1Ut+L5cWlfR7MF6nBZia8WpmGaQPjLOJA=     nm7D5e4=   \n",
       "4  KJqV15wsX3PG8TS5GSddp6LFFVdd3CoRftZM/tP0+R4=     cNFKU4w=   \n",
       "\n",
       "                                rowguid ModifiedDate  \n",
       "0  3F5AE95E-B87D-4AED-95B4-C3797AFCB74F   2005-08-01  \n",
       "1  E552F657-A9AF-4A7D-A645-C429D6E02491   2006-08-01  \n",
       "2  130774B1-DB21-4EF3-98C8-C104BCD6ED6D   2005-09-01  \n",
       "3  FF862851-1DAA-4044-BE7C-3E85583C054D   2006-07-01  \n",
       "4  83905BDC-6F5E-4F71-B162-C98DA069F38A   2006-09-01  "
      ]
     },
     "execution_count": 22,
     "metadata": {},
     "output_type": "execute_result"
    }
   ],
   "source": [
    "import pandas as pd \n",
    "query = \"SELECT * FROM SalesLT.customer\"\n",
    "datos = pd.read_sql(query, conn)\n",
    "datos.head()"
   ]
  },
  {
   "cell_type": "code",
   "execution_count": 23,
   "id": "4acc271e",
   "metadata": {},
   "outputs": [
    {
     "data": {
      "text/plain": [
       "Index(['CustomerID', 'NameStyle', 'Title', 'FirstName', 'MiddleName',\n",
       "       'LastName', 'Suffix', 'CompanyName', 'SalesPerson', 'EmailAddress',\n",
       "       'Phone', 'PasswordHash', 'PasswordSalt', 'rowguid', 'ModifiedDate'],\n",
       "      dtype='object')"
      ]
     },
     "execution_count": 23,
     "metadata": {},
     "output_type": "execute_result"
    }
   ],
   "source": [
    "datos.columns"
   ]
  },
  {
   "cell_type": "markdown",
   "id": "e9cc353b",
   "metadata": {},
   "source": [
    "Asegurando que tenemos los datos, podemos cerrar la conexión. "
   ]
  },
  {
   "cell_type": "code",
   "execution_count": 24,
   "id": "60a53480",
   "metadata": {},
   "outputs": [],
   "source": [
    "conn.close()"
   ]
  },
  {
   "cell_type": "markdown",
   "id": "2400cfed",
   "metadata": {},
   "source": [
    "Se predecirá `ModifiedDate` según otros datos numéricos en la base de datos, como lo son `CustomerID` y `Phone`"
   ]
  },
  {
   "cell_type": "code",
   "execution_count": 25,
   "id": "89633792",
   "metadata": {},
   "outputs": [],
   "source": [
    "from sklearn.model_selection import train_test_split\n",
    "from sklearn.linear_model import LinearRegression\n",
    "from sklearn.metrics import mean_squared_error, r2_score\n",
    "import numpy as np"
   ]
  },
  {
   "cell_type": "code",
   "execution_count": 26,
   "id": "a18bfdfa",
   "metadata": {},
   "outputs": [],
   "source": [
    "datos['Phone'] = datos['Phone'].str.replace('-', '')\n",
    "datos['Phone'] = datos['Phone'].str.replace(' ', '')\n",
    "datos['Phone'] = datos['Phone'].str.replace('(', '')\n",
    "datos['Phone'] = datos['Phone'].str.replace(')', '')\n",
    "datos['Phone'] = datos['Phone'].str.replace('+', '')\n",
    "datos['Phone'] = datos['Phone'].astype(np.float64)"
   ]
  },
  {
   "cell_type": "code",
   "execution_count": 27,
   "id": "7e8052c3",
   "metadata": {},
   "outputs": [],
   "source": [
    "datos['ModifiedDate'] = pd.to_datetime(datos['ModifiedDate']) \n",
    "datos['ModifiedDate'] = datos['ModifiedDate'].map(pd.Timestamp.timestamp)"
   ]
  },
  {
   "cell_type": "code",
   "execution_count": 28,
   "id": "a7fa0c34",
   "metadata": {},
   "outputs": [],
   "source": [
    "numbers = ['CustomerID', 'Phone']\n",
    "X = datos[numbers]\n",
    "X = X.fillna(0)  \n",
    "y = datos['ModifiedDate']\n",
    "\n",
    "X_train, X_test, y_train, y_test = train_test_split(X, y, test_size = 0.2)"
   ]
  },
  {
   "cell_type": "code",
   "execution_count": 29,
   "id": "83cb721b",
   "metadata": {},
   "outputs": [],
   "source": [
    "model = LinearRegression()\n",
    "model.fit(X_train, y_train)\n",
    "y_pred = model.predict(X_test)"
   ]
  },
  {
   "cell_type": "code",
   "execution_count": 30,
   "id": "2e21e7f6",
   "metadata": {},
   "outputs": [
    {
     "name": "stdout",
     "output_type": "stream",
     "text": [
      "Error cuadrado medio: 580335747579004.0\n",
      "R^2: -0.008216068657565634\n"
     ]
    }
   ],
   "source": [
    "mse = mean_squared_error(y_test, y_pred)\n",
    "print(f\"Error cuadrado medio: {mse}\")\n",
    "r2 = r2_score(y_test, y_pred)\n",
    "print(f\"R^2: {r2}\")"
   ]
  },
  {
   "cell_type": "markdown",
   "id": "ad764ce9",
   "metadata": {},
   "source": [
    "Para interpretar estos números, es conveniente convertir los números de regreso a valores de fechas"
   ]
  },
  {
   "cell_type": "code",
   "execution_count": 31,
   "id": "732ac696",
   "metadata": {},
   "outputs": [],
   "source": [
    "y_test_dates = pd.to_datetime(y_test, unit = 's') # Valores originales\n",
    "y_pred_dates = pd.to_datetime(y_pred, unit = 's') # Valores predichos "
   ]
  },
  {
   "cell_type": "markdown",
   "id": "0358a9f0",
   "metadata": {},
   "source": [
    "Y se le da una interpretación a los errores obtenidos en días. Lo siguiente fue hecho con ayuda de IA. "
   ]
  },
  {
   "cell_type": "code",
   "execution_count": 32,
   "id": "5f76e39c",
   "metadata": {},
   "outputs": [
    {
     "name": "stdout",
     "output_type": "stream",
     "text": [
      "Mean Absolute Error (MAE) in days: 228.11\n",
      "Mean Squared Error (MSE): 580335747579004.0\n",
      "R-squared (R²): -0.008216068657565634\n"
     ]
    }
   ],
   "source": [
    "# Absolute error in days\n",
    "absolute_errors = (y_test_dates - y_pred_dates).abs()\n",
    "absolute_errors_in_days = absolute_errors.dt.total_seconds() / (60 * 60 * 24)  # Convert seconds to days\n",
    "\n",
    "# Mean Absolute Error (in days)\n",
    "mae_days = absolute_errors_in_days.mean()\n",
    "print(f\"Mean Absolute Error (MAE) in days: {mae_days:.2f}\")\n",
    "\n",
    "# Evaluate Mean Squared Error (MSE) and R² for reference\n",
    "mse = mean_squared_error(y_test, y_pred)\n",
    "r2 = r2_score(y_test, y_pred)\n",
    "print(f\"Mean Squared Error (MSE): {mse}\")\n",
    "print(f\"R-squared (R²): {r2}\")"
   ]
  },
  {
   "cell_type": "markdown",
   "id": "88db1779",
   "metadata": {},
   "source": [
    "Podemos mostrar algunos ejemplos de las fechas originales vs. las fechas predichas para observar los errores del modelo. "
   ]
  },
  {
   "cell_type": "code",
   "execution_count": 33,
   "id": "8efa89ae",
   "metadata": {},
   "outputs": [
    {
     "name": "stdout",
     "output_type": "stream",
     "text": [
      "    Fecha real Fecha predicha  Error absoluto (días)\n",
      "316 2006-11-01     2006-06-22             131.495439\n",
      "634 2006-08-01     2006-06-30              31.739513\n",
      "689 2005-09-01     2006-06-30             302.572001\n",
      "377 2007-07-01     2006-06-22             373.939109\n",
      "226 2005-08-01     2006-06-23             326.173988\n"
     ]
    }
   ],
   "source": [
    "compara = pd.DataFrame({\n",
    "    'Fecha real': y_test_dates,\n",
    "    'Fecha predicha': y_pred_dates.date,\n",
    "    'Error absoluto (días)': absolute_errors_in_days\n",
    "})\n",
    "print(compara.head())"
   ]
  },
  {
   "cell_type": "markdown",
   "id": "6fe462d2",
   "metadata": {},
   "source": [
    "Ahora exportamos el modelo como archivo .pkl"
   ]
  },
  {
   "cell_type": "code",
   "execution_count": 34,
   "id": "01f38e11",
   "metadata": {},
   "outputs": [
    {
     "name": "stdout",
     "output_type": "stream",
     "text": [
      "Modelo exportado como 'model_regression.pkl'\n"
     ]
    }
   ],
   "source": [
    "import joblib\n",
    "\n",
    "joblib.dump(model, 'model_regression.pkl')\n",
    "print(\"Modelo exportado como 'model_regression.pkl'\")"
   ]
  }
 ],
 "metadata": {
  "kernelspec": {
   "display_name": "Python 3",
   "language": "python",
   "name": "python3"
  },
  "language_info": {
   "codemirror_mode": {
    "name": "ipython",
    "version": 3
   },
   "file_extension": ".py",
   "mimetype": "text/x-python",
   "name": "python",
   "nbconvert_exporter": "python",
   "pygments_lexer": "ipython3",
   "version": "3.11.5"
  }
 },
 "nbformat": 4,
 "nbformat_minor": 5
}
